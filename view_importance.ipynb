{
 "cells": [
  {
   "cell_type": "code",
   "execution_count": 1,
   "metadata": {},
   "outputs": [],
   "source": [
    "from src.transformers.moebert.utils import DiffFeedForward\n",
    "from transformers import AutoConfig"
   ]
  },
  {
   "cell_type": "code",
   "execution_count": 2,
   "metadata": {},
   "outputs": [],
   "source": [
    "config = AutoConfig.from_pretrained(\"bert-base-uncased\")\n",
    "model=DiffFeedForward(\n",
    "    config              =config,\n",
    "    intermediate_size   =config.intermediate_size,\n",
    "    shared_size         =1024,\n",
    "    dropout             =0.1,\n",
    "    fixmask_init        =False,\n",
    "    alpha_init          =5.0,\n",
    "    concrete_lower      =-1.5,\n",
    "    concrete_upper      =1.5,\n",
    "    structured          =True,\n",
    "    sparsity_pen        =1.25e-7,\n",
    ")"
   ]
  },
  {
   "cell_type": "code",
   "execution_count": 7,
   "metadata": {},
   "outputs": [
    {
     "name": "stdout",
     "output_type": "stream",
     "text": [
      "torch.Size([1024]) torch.Size([1024, 768])\n"
     ]
    }
   ],
   "source": [
    "a=model.fc1_shared.bias.shape\n",
    "b=model.fc1_shared.weight.shape\n",
    "print(a,b)"
   ]
  },
  {
   "cell_type": "code",
   "execution_count": 9,
   "metadata": {},
   "outputs": [
    {
     "data": {
      "text/plain": [
       "tensor([-0.0359, -0.0087,  0.0167,  0.0258,  0.0167,  0.0229],\n",
       "       grad_fn=<IndexBackward>)"
      ]
     },
     "execution_count": 9,
     "metadata": {},
     "output_type": "execute_result"
    }
   ],
   "source": [
    "idx = [0,1,2,3,4,5]\n",
    "idx1 = idx[:3]\n",
    "idx2 = idx[3:]\n",
    "model.fc1_shared.bias[idx]"
   ]
  },
  {
   "cell_type": "code",
   "execution_count": 10,
   "metadata": {},
   "outputs": [
    {
     "name": "stdout",
     "output_type": "stream",
     "text": [
      "tensor([-0.0359, -0.0087,  0.0167], grad_fn=<IndexBackward>)\n",
      "tensor([0.0258, 0.0167, 0.0229], grad_fn=<IndexBackward>)\n"
     ]
    }
   ],
   "source": [
    "print(model.fc1_shared.bias[idx1])\n",
    "print(model.fc1_shared.bias[idx2])"
   ]
  },
  {
   "cell_type": "code",
   "execution_count": null,
   "metadata": {},
   "outputs": [],
   "source": []
  },
  {
   "cell_type": "code",
   "execution_count": 13,
   "metadata": {},
   "outputs": [],
   "source": [
    "b=model.fc1_shared.parametrizations.weight[0].alpha_group"
   ]
  },
  {
   "cell_type": "code",
   "execution_count": 14,
   "metadata": {},
   "outputs": [],
   "source": [
    "c=a*b"
   ]
  },
  {
   "cell_type": "code",
   "execution_count": 15,
   "metadata": {},
   "outputs": [
    {
     "data": {
      "text/plain": [
       "torch.Size([1024, 768])"
      ]
     },
     "execution_count": 15,
     "metadata": {},
     "output_type": "execute_result"
    }
   ],
   "source": [
    "c.shape"
   ]
  },
  {
   "cell_type": "code",
   "execution_count": null,
   "metadata": {},
   "outputs": [],
   "source": [
    "import pickle\n",
    "import random\n",
    "import torch"
   ]
  },
  {
   "cell_type": "code",
   "execution_count": null,
   "metadata": {},
   "outputs": [],
   "source": [
    "ckpt_name=\"/home/kimth/workspace/MoEBERT/ckpt/dense2moe/rte/model/pytorch_model.bin\"\n",
    "ckpt=torch.load(ckpt_name)"
   ]
  },
  {
   "cell_type": "code",
   "execution_count": null,
   "metadata": {},
   "outputs": [],
   "source": [
    "a=ckpt[\"bert.encoder.layer.1.experts.experts.1.fc1.weight\"]\n",
    "print(a)"
   ]
  },
  {
   "cell_type": "code",
   "execution_count": null,
   "metadata": {},
   "outputs": [],
   "source": [
    "ckpt_name=\"/home/kimth/workspace/MoEBERT/ckpt/dense/rte/model/checkpoint-3100/pytorch_model.bin\"\n",
    "ckpt=torch.load(ckpt_name)"
   ]
  },
  {
   "cell_type": "code",
   "execution_count": null,
   "metadata": {},
   "outputs": [],
   "source": [
    "ckpt[\"bert.encoder.layer.1.intermediate.dense.weight\"]"
   ]
  },
  {
   "cell_type": "code",
   "execution_count": null,
   "metadata": {},
   "outputs": [],
   "source": [
    "torch.where(ckpt[\"bert.encoder.layer.1.intermediate.dense.weight\"] == a)"
   ]
  },
  {
   "cell_type": "code",
   "execution_count": null,
   "metadata": {},
   "outputs": [],
   "source": [
    "a=torch.randint(low=0, high=32, size=(1,), device=\"cuda\")"
   ]
  },
  {
   "cell_type": "code",
   "execution_count": null,
   "metadata": {},
   "outputs": [],
   "source": [
    "a.detach().item()"
   ]
  },
  {
   "cell_type": "code",
   "execution_count": null,
   "metadata": {},
   "outputs": [],
   "source": [
    "b=torch.nn.Parameter(a)"
   ]
  },
  {
   "cell_type": "code",
   "execution_count": null,
   "metadata": {},
   "outputs": [],
   "source": []
  },
  {
   "cell_type": "code",
   "execution_count": null,
   "metadata": {},
   "outputs": [],
   "source": [
    "num_layers  =\n",
    "num_experts =4\n",
    "vocab_size  =20000\n",
    "with open(\"random_hash_ex{}_vocab{}.txt\".format(num_experts, vocab_size), \"r\") as fin:\n",
    "    hash_list = torch.\n",
    "    fin.write()\n"
   ]
  },
  {
   "cell_type": "code",
   "execution_count": null,
   "metadata": {},
   "outputs": [],
   "source": [
    "b"
   ]
  },
  {
   "cell_type": "code",
   "execution_count": null,
   "metadata": {},
   "outputs": [],
   "source": [
    "ckpt.keys()"
   ]
  },
  {
   "cell_type": "code",
   "execution_count": null,
   "metadata": {},
   "outputs": [],
   "source": [
    "with open(\"importance_files/importance_rte.pkl\",\"rb\") as fin:\n",
    "    input = pickle.load(fin)\n",
    "    print(input[\"idx\"])"
   ]
  },
  {
   "cell_type": "code",
   "execution_count": null,
   "metadata": {},
   "outputs": [],
   "source": [
    "a = torch.tensor(input)"
   ]
  },
  {
   "cell_type": "code",
   "execution_count": null,
   "metadata": {},
   "outputs": [],
   "source": [
    "input[0]"
   ]
  }
 ],
 "metadata": {
  "kernelspec": {
   "display_name": "MoEBERT",
   "language": "python",
   "name": "python3"
  },
  "language_info": {
   "codemirror_mode": {
    "name": "ipython",
    "version": 3
   },
   "file_extension": ".py",
   "mimetype": "text/x-python",
   "name": "python",
   "nbconvert_exporter": "python",
   "pygments_lexer": "ipython3",
   "version": "3.7.10"
  }
 },
 "nbformat": 4,
 "nbformat_minor": 2
}
